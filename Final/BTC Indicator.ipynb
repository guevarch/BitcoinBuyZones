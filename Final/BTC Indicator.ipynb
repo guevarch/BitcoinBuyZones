{
 "cells": [
  {
   "cell_type": "code",
   "execution_count": null,
   "metadata": {},
   "outputs": [],
   "source": [
    "from datetime import date\n",
    "from prophet import Prophet\n",
    "import pandas as pd\n",
    "import matplotlib.pyplot as plt\n",
    "import numpy as np\n",
    "import yfinance as yf"
   ]
  },
  {
   "cell_type": "code",
   "execution_count": null,
   "metadata": {},
   "outputs": [],
   "source": [
    "df = pd.read_csv(\"../Resources/btcjoin.csv\", parse_dates=['date'])\n",
    "btc_df = yf.download('BTC-USD')\n",
    "btc_df = btc_df.reset_index()\n",
    "btc_df = btc_df.loc[(btc_df['Date'] > '2022-10-25')]\n",
    "btc_df['Close']=btc_df['Close'].astype(\"float\")\n",
    "df['price']=df['price'].str.replace(',','')\n",
    "df['price']=df['price'].astype(\"float\")\n",
    "btc_df = btc_df.rename(columns={\"Close\": \"price\", \"Date\":\"date\"})\n",
    "df = pd.merge(df, btc_df, on=['date', 'price'], how='outer')\n",
    "df = df.rename(columns={\"value\": \"wallets\"})\n",
    "df = df.drop(columns=['volume','change', 'low', 'high', 'open','Open','High','Low','Adj Close', 'Volume', 'Unnamed: 0', \"wallets\", \"address\", \"mined\"])\n",
    "df['200D'] = df['price'].rolling(200).mean()\n",
    "df['300D'] = df['price'].rolling(300).mean()\n",
    "df['50D'] = df['price'].rolling(50).mean()\n",
    "df = df.dropna()\n",
    "df['meanavge'] = (df['200D'] + df['300D'] + df['50D'] )/3\n",
    "df = df.drop(columns=['200D','300D', '50D'])\n",
    "df['meanvalue'] = df[\"price\"] - df[\"meanavge\"]\n",
    "df['status'] = df['meanvalue'].apply(lambda x: '1' if x > 0 else '0')\n",
    "df['status']=df['status'].astype(\"object\")\n",
    "df['price-meanavge']=df['price'] - df['meanavge']\n",
    "df['move%'] = df['price-meanavge']/(df['price'] + df['meanavge'])\n",
    "bins = [-0.43, -0.1, 0, 0.1, 0.43]\n",
    "group_names = [\"Severely Oversold\",\"Oversold\", \"Neutral\",\"Overbought\"]\n",
    "df[\"Valuation\"] = pd.cut(df[\"move%\"], bins, labels=group_names)\n",
    "pricefrommean = df.meanvalue.iloc[-1].round(2)\n",
    "currentzone = df.Valuation.iloc[-1]\n",
    "delta1cycle = df.index[df['date']=='2015-09-15'].tolist()[0] - df.index[df['date']=='2013-12-04'].tolist()[0]\n",
    "delta2cycle = df.index[df['date']=='2019-04-2'].tolist()[0] - df.index[df['date']=='2017-12-17'].tolist()[0] \n",
    "averageunder = int((delta1cycle+delta2cycle)/2)\n",
    "delta1fromp2p = df.index[df['date']=='2017-03-17'].tolist()[0] - df.index[df['date']=='2013-12-04'].tolist()[0]\n",
    "delta2fromp2p = df.index[df['date']=='2020-11-29'].tolist()[0] - df.index[df['date']=='2017-12-17'].tolist()[0] \n",
    "averagep2p = int((delta1fromp2p+delta2fromp2p)/2)\n",
    "sincealltimehigh = df.index[-1] - df.index[df['price']==df.price.max()].tolist()[0]\n"
   ]
  },
  {
   "cell_type": "code",
   "execution_count": null,
   "metadata": {},
   "outputs": [],
   "source": [
    "import plotly.graph_objects as go\n",
    "import plotly.io as pio\n",
    "\n",
    "fig = go.Figure(go.Indicator(\n",
    "    domain = {'x': [0, 1], 'y': [0, 1]},\n",
    "    value = sincealltimehigh,\n",
    "    mode = \"gauge+number+delta\",\n",
    "    title = {'text': \"Approximate Days to reach previous ATH\"},\n",
    "    delta = {'reference': averagep2p},\n",
    "    gauge = {'axis': {'range': [None, averagep2p]},\n",
    "    'bar': {'color': \"orange\"},}))\n",
    "fig.show()\n",
    "fig.write_image(\"../static/daysATH.jpeg\")"
   ]
  },
  {
   "cell_type": "code",
   "execution_count": null,
   "metadata": {},
   "outputs": [],
   "source": [
    "import plotly.graph_objects as go\n",
    "\n",
    "fig = go.Figure(go.Indicator(\n",
    "    domain = {'x': [0, 1], 'y': [0, 1]},\n",
    "    value = df.price.iloc[-1],\n",
    "    mode = \"gauge+number+delta\",\n",
    "    title = {'text': \"Current Price and ATH Delta\"},\n",
    "    delta = {'reference': df.price[df['price']==df.price.max()].tolist()[0]},\n",
    "    gauge = {'axis': {'range': [None, df.price[df['price']==df.price.max()].tolist()[0]]},\n",
    "    'bar': {'color': \"orange\"}}))\n",
    "\n",
    "fig.show()\n",
    "fig.write_image(\"../static/priceath.jpeg\")"
   ]
  },
  {
   "cell_type": "code",
   "execution_count": null,
   "metadata": {},
   "outputs": [],
   "source": [
    "import plotly.graph_objects as go\n",
    "\n",
    "fig = go.Figure(go.Indicator(\n",
    "    domain = {'x': [0, 1], 'y': [0, 1]},\n",
    "    value = sincealltimehigh,\n",
    "    mode = \"gauge+number+delta\",\n",
    "    title = {'text': \"Approximate Days Price < Meanaverage\"},\n",
    "      delta = {'reference': averageunder},\n",
    "    gauge = {'axis': {'range': [None, averageunder],},\n",
    "    'bar': {'color': \"orange\"},}))\n",
    "\n",
    "\n",
    "fig.show()\n",
    "fig.write_image(\"../static/daysUnder.png\")"
   ]
  },
  {
   "cell_type": "code",
   "execution_count": 5,
   "metadata": {},
   "outputs": [],
   "source": [
    "import plotly.graph_objects as go\n",
    "\n",
    "fig = go.Figure(go.Indicator(\n",
    "    domain = {'x': [0, 1], 'y': [0, 1]},\n",
    "    value = df.price.iloc[-1] - df.meanavge.iloc[-1],\n",
    "    mode = \"gauge+number\",\n",
    "    title = {'text': \"Current Price Meanaverage Delta\"},\n",
    "    delta = {'reference': 0},\n",
    "    gauge = {'axis': {'range': [None, df.meanvalue[df['meanvalue']==df.meanvalue.min()].tolist()[0]]},\n",
    "    'bar': {'color': \"orange\"}}))\n",
    "\n",
    "fig.show()\n",
    "fig.write_image(\"../static/price-mean.jpeg\")"
   ]
  }
 ],
 "metadata": {
  "kernelspec": {
   "display_name": "Python 3",
   "language": "python",
   "name": "python3"
  },
  "language_info": {
   "codemirror_mode": {
    "name": "ipython",
    "version": 3
   },
   "file_extension": ".py",
   "mimetype": "text/x-python",
   "name": "python",
   "nbconvert_exporter": "python",
   "pygments_lexer": "ipython3",
   "version": "3.9.12"
  },
  "orig_nbformat": 4,
  "vscode": {
   "interpreter": {
    "hash": "0186a538ad27e2db57fefa14172f824d8896a2c272936670a25fa8d5fb9a4dc9"
   }
  }
 },
 "nbformat": 4,
 "nbformat_minor": 2
}
