{
 "cells": [
  {
   "cell_type": "code",
   "execution_count": 1,
   "metadata": {},
   "outputs": [
    {
     "name": "stdout",
     "output_type": "stream",
     "text": [
      "[*********************100%***********************]  1 of 1 completed\n"
     ]
    }
   ],
   "source": [
    "from datetime import date\n",
    "from prophet import Prophet\n",
    "import pandas as pd\n",
    "import matplotlib.pyplot as plt\n",
    "import numpy as np\n",
    "import yfinance as yf\n",
    "df = pd.read_csv(\"../Resources/btcjoin.csv\", parse_dates=['date'])\n",
    "btc_df = yf.download('BTC-USD')\n",
    "btc_df = btc_df.reset_index()\n",
    "btc_df = btc_df.loc[(btc_df['Date'] > '2022-10-25')]\n",
    "btc_df['Close']=btc_df['Close'].astype(\"float\")\n",
    "df['price']=df['price'].str.replace(',','')\n",
    "df['price']=df['price'].astype(\"float\")\n",
    "btc_df = btc_df.rename(columns={\"Close\": \"price\", \"Date\":\"date\"})\n",
    "df = pd.merge(df, btc_df, on=['date', 'price'], how='outer')\n",
    "df = df.rename(columns={\"value\": \"wallets\"})\n",
    "df = df.drop(columns=['volume','change', 'low', 'high', 'open','Open','High','Low','Adj Close', 'Volume', 'Unnamed: 0', \"wallets\", \"address\", \"mined\"])"
   ]
  },
  {
   "cell_type": "code",
   "execution_count": 2,
   "metadata": {},
   "outputs": [
    {
     "data": {
      "text/html": [
       "<div>\n",
       "<style scoped>\n",
       "    .dataframe tbody tr th:only-of-type {\n",
       "        vertical-align: middle;\n",
       "    }\n",
       "\n",
       "    .dataframe tbody tr th {\n",
       "        vertical-align: top;\n",
       "    }\n",
       "\n",
       "    .dataframe thead th {\n",
       "        text-align: right;\n",
       "    }\n",
       "</style>\n",
       "<table border=\"1\" class=\"dataframe\">\n",
       "  <thead>\n",
       "    <tr style=\"text-align: right;\">\n",
       "      <th></th>\n",
       "      <th>date</th>\n",
       "      <th>price</th>\n",
       "      <th>200D</th>\n",
       "      <th>300D</th>\n",
       "      <th>50D</th>\n",
       "    </tr>\n",
       "  </thead>\n",
       "  <tbody>\n",
       "    <tr>\n",
       "      <th>299</th>\n",
       "      <td>2011-07-21</td>\n",
       "      <td>13.600000</td>\n",
       "      <td>5.665500</td>\n",
       "      <td>3.844333</td>\n",
       "      <td>16.604000</td>\n",
       "    </tr>\n",
       "    <tr>\n",
       "      <th>300</th>\n",
       "      <td>2011-07-22</td>\n",
       "      <td>13.700000</td>\n",
       "      <td>5.732500</td>\n",
       "      <td>3.889667</td>\n",
       "      <td>16.666000</td>\n",
       "    </tr>\n",
       "    <tr>\n",
       "      <th>301</th>\n",
       "      <td>2011-07-23</td>\n",
       "      <td>13.700000</td>\n",
       "      <td>5.799500</td>\n",
       "      <td>3.935000</td>\n",
       "      <td>16.654000</td>\n",
       "    </tr>\n",
       "    <tr>\n",
       "      <th>302</th>\n",
       "      <td>2011-07-24</td>\n",
       "      <td>14.000000</td>\n",
       "      <td>5.868000</td>\n",
       "      <td>3.981333</td>\n",
       "      <td>16.556000</td>\n",
       "    </tr>\n",
       "    <tr>\n",
       "      <th>303</th>\n",
       "      <td>2011-07-25</td>\n",
       "      <td>14.100000</td>\n",
       "      <td>5.937000</td>\n",
       "      <td>4.028000</td>\n",
       "      <td>16.504000</td>\n",
       "    </tr>\n",
       "    <tr>\n",
       "      <th>...</th>\n",
       "      <td>...</td>\n",
       "      <td>...</td>\n",
       "      <td>...</td>\n",
       "      <td>...</td>\n",
       "      <td>...</td>\n",
       "    </tr>\n",
       "    <tr>\n",
       "      <th>4422</th>\n",
       "      <td>2022-12-01</td>\n",
       "      <td>16967.132812</td>\n",
       "      <td>21579.920225</td>\n",
       "      <td>27838.111483</td>\n",
       "      <td>18397.432898</td>\n",
       "    </tr>\n",
       "    <tr>\n",
       "      <th>4423</th>\n",
       "      <td>2022-12-02</td>\n",
       "      <td>17088.660156</td>\n",
       "      <td>21516.118525</td>\n",
       "      <td>27757.033350</td>\n",
       "      <td>18351.610102</td>\n",
       "    </tr>\n",
       "    <tr>\n",
       "      <th>4424</th>\n",
       "      <td>2022-12-03</td>\n",
       "      <td>16908.236328</td>\n",
       "      <td>21448.472207</td>\n",
       "      <td>27672.086805</td>\n",
       "      <td>18306.138828</td>\n",
       "    </tr>\n",
       "    <tr>\n",
       "      <th>4425</th>\n",
       "      <td>2022-12-04</td>\n",
       "      <td>17130.486328</td>\n",
       "      <td>21390.706139</td>\n",
       "      <td>27583.075426</td>\n",
       "      <td>18267.374555</td>\n",
       "    </tr>\n",
       "    <tr>\n",
       "      <th>4426</th>\n",
       "      <td>2022-12-05</td>\n",
       "      <td>16974.826172</td>\n",
       "      <td>21324.050770</td>\n",
       "      <td>27492.864180</td>\n",
       "      <td>18221.633078</td>\n",
       "    </tr>\n",
       "  </tbody>\n",
       "</table>\n",
       "<p>4128 rows × 5 columns</p>\n",
       "</div>"
      ],
      "text/plain": [
       "           date         price          200D          300D           50D\n",
       "299  2011-07-21     13.600000      5.665500      3.844333     16.604000\n",
       "300  2011-07-22     13.700000      5.732500      3.889667     16.666000\n",
       "301  2011-07-23     13.700000      5.799500      3.935000     16.654000\n",
       "302  2011-07-24     14.000000      5.868000      3.981333     16.556000\n",
       "303  2011-07-25     14.100000      5.937000      4.028000     16.504000\n",
       "...         ...           ...           ...           ...           ...\n",
       "4422 2022-12-01  16967.132812  21579.920225  27838.111483  18397.432898\n",
       "4423 2022-12-02  17088.660156  21516.118525  27757.033350  18351.610102\n",
       "4424 2022-12-03  16908.236328  21448.472207  27672.086805  18306.138828\n",
       "4425 2022-12-04  17130.486328  21390.706139  27583.075426  18267.374555\n",
       "4426 2022-12-05  16974.826172  21324.050770  27492.864180  18221.633078\n",
       "\n",
       "[4128 rows x 5 columns]"
      ]
     },
     "execution_count": 2,
     "metadata": {},
     "output_type": "execute_result"
    }
   ],
   "source": [
    "df['200D'] = df['price'].rolling(200).mean()\n",
    "df['300D'] = df['price'].rolling(300).mean()\n",
    "df['50D'] = df['price'].rolling(50).mean()\n",
    "df = df.dropna()\n",
    "df"
   ]
  },
  {
   "cell_type": "code",
   "execution_count": 3,
   "metadata": {},
   "outputs": [],
   "source": [
    "df['meanavge'] = (df['200D'] + df['300D'] + df['50D'] )/3"
   ]
  },
  {
   "cell_type": "code",
   "execution_count": 4,
   "metadata": {},
   "outputs": [],
   "source": [
    "df = df.drop(columns=['200D','300D', '50D'])\n",
    "df['meanvalue'] = df[\"price\"] - df[\"meanavge\"]\n",
    "df['status'] = df['meanvalue'].apply(lambda x: '1' if x > 0 else '0')\n",
    "df['status']=df['status'].astype(\"object\")"
   ]
  },
  {
   "cell_type": "code",
   "execution_count": 5,
   "metadata": {},
   "outputs": [],
   "source": [
    "df['price-meanavge']=df['price'] - df['meanavge']\n",
    "df['move%'] = df['price-meanavge']/(df['price'] + df['meanavge'])"
   ]
  },
  {
   "cell_type": "code",
   "execution_count": 6,
   "metadata": {},
   "outputs": [
    {
     "data": {
      "text/html": [
       "<div>\n",
       "<style scoped>\n",
       "    .dataframe tbody tr th:only-of-type {\n",
       "        vertical-align: middle;\n",
       "    }\n",
       "\n",
       "    .dataframe tbody tr th {\n",
       "        vertical-align: top;\n",
       "    }\n",
       "\n",
       "    .dataframe thead th {\n",
       "        text-align: right;\n",
       "    }\n",
       "</style>\n",
       "<table border=\"1\" class=\"dataframe\">\n",
       "  <thead>\n",
       "    <tr style=\"text-align: right;\">\n",
       "      <th></th>\n",
       "      <th>date</th>\n",
       "      <th>price</th>\n",
       "      <th>meanavge</th>\n",
       "      <th>meanvalue</th>\n",
       "      <th>status</th>\n",
       "      <th>price-meanavge</th>\n",
       "      <th>move%</th>\n",
       "      <th>Valuation</th>\n",
       "    </tr>\n",
       "  </thead>\n",
       "  <tbody>\n",
       "    <tr>\n",
       "      <th>299</th>\n",
       "      <td>2011-07-21</td>\n",
       "      <td>13.600000</td>\n",
       "      <td>8.704611</td>\n",
       "      <td>4.895389</td>\n",
       "      <td>1</td>\n",
       "      <td>4.895389</td>\n",
       "      <td>0.219479</td>\n",
       "      <td>Overbought</td>\n",
       "    </tr>\n",
       "    <tr>\n",
       "      <th>300</th>\n",
       "      <td>2011-07-22</td>\n",
       "      <td>13.700000</td>\n",
       "      <td>8.762722</td>\n",
       "      <td>4.937278</td>\n",
       "      <td>1</td>\n",
       "      <td>4.937278</td>\n",
       "      <td>0.219799</td>\n",
       "      <td>Overbought</td>\n",
       "    </tr>\n",
       "    <tr>\n",
       "      <th>301</th>\n",
       "      <td>2011-07-23</td>\n",
       "      <td>13.700000</td>\n",
       "      <td>8.796167</td>\n",
       "      <td>4.903833</td>\n",
       "      <td>1</td>\n",
       "      <td>4.903833</td>\n",
       "      <td>0.217985</td>\n",
       "      <td>Overbought</td>\n",
       "    </tr>\n",
       "    <tr>\n",
       "      <th>302</th>\n",
       "      <td>2011-07-24</td>\n",
       "      <td>14.000000</td>\n",
       "      <td>8.801778</td>\n",
       "      <td>5.198222</td>\n",
       "      <td>1</td>\n",
       "      <td>5.198222</td>\n",
       "      <td>0.227974</td>\n",
       "      <td>Overbought</td>\n",
       "    </tr>\n",
       "    <tr>\n",
       "      <th>303</th>\n",
       "      <td>2011-07-25</td>\n",
       "      <td>14.100000</td>\n",
       "      <td>8.823000</td>\n",
       "      <td>5.277000</td>\n",
       "      <td>1</td>\n",
       "      <td>5.277000</td>\n",
       "      <td>0.230205</td>\n",
       "      <td>Overbought</td>\n",
       "    </tr>\n",
       "    <tr>\n",
       "      <th>...</th>\n",
       "      <td>...</td>\n",
       "      <td>...</td>\n",
       "      <td>...</td>\n",
       "      <td>...</td>\n",
       "      <td>...</td>\n",
       "      <td>...</td>\n",
       "      <td>...</td>\n",
       "      <td>...</td>\n",
       "    </tr>\n",
       "    <tr>\n",
       "      <th>4422</th>\n",
       "      <td>2022-12-01</td>\n",
       "      <td>16967.132812</td>\n",
       "      <td>22605.154869</td>\n",
       "      <td>-5638.022056</td>\n",
       "      <td>0</td>\n",
       "      <td>-5638.022056</td>\n",
       "      <td>-0.142474</td>\n",
       "      <td>Severely Oversold</td>\n",
       "    </tr>\n",
       "    <tr>\n",
       "      <th>4423</th>\n",
       "      <td>2022-12-02</td>\n",
       "      <td>17088.660156</td>\n",
       "      <td>22541.587326</td>\n",
       "      <td>-5452.927169</td>\n",
       "      <td>0</td>\n",
       "      <td>-5452.927169</td>\n",
       "      <td>-0.137595</td>\n",
       "      <td>Severely Oversold</td>\n",
       "    </tr>\n",
       "    <tr>\n",
       "      <th>4424</th>\n",
       "      <td>2022-12-03</td>\n",
       "      <td>16908.236328</td>\n",
       "      <td>22475.565947</td>\n",
       "      <td>-5567.329618</td>\n",
       "      <td>0</td>\n",
       "      <td>-5567.329618</td>\n",
       "      <td>-0.141361</td>\n",
       "      <td>Severely Oversold</td>\n",
       "    </tr>\n",
       "    <tr>\n",
       "      <th>4425</th>\n",
       "      <td>2022-12-04</td>\n",
       "      <td>17130.486328</td>\n",
       "      <td>22413.718706</td>\n",
       "      <td>-5283.232378</td>\n",
       "      <td>0</td>\n",
       "      <td>-5283.232378</td>\n",
       "      <td>-0.133603</td>\n",
       "      <td>Severely Oversold</td>\n",
       "    </tr>\n",
       "    <tr>\n",
       "      <th>4426</th>\n",
       "      <td>2022-12-05</td>\n",
       "      <td>16974.826172</td>\n",
       "      <td>22346.182676</td>\n",
       "      <td>-5371.356504</td>\n",
       "      <td>0</td>\n",
       "      <td>-5371.356504</td>\n",
       "      <td>-0.136603</td>\n",
       "      <td>Severely Oversold</td>\n",
       "    </tr>\n",
       "  </tbody>\n",
       "</table>\n",
       "<p>4128 rows × 8 columns</p>\n",
       "</div>"
      ],
      "text/plain": [
       "           date         price      meanavge    meanvalue status  \\\n",
       "299  2011-07-21     13.600000      8.704611     4.895389      1   \n",
       "300  2011-07-22     13.700000      8.762722     4.937278      1   \n",
       "301  2011-07-23     13.700000      8.796167     4.903833      1   \n",
       "302  2011-07-24     14.000000      8.801778     5.198222      1   \n",
       "303  2011-07-25     14.100000      8.823000     5.277000      1   \n",
       "...         ...           ...           ...          ...    ...   \n",
       "4422 2022-12-01  16967.132812  22605.154869 -5638.022056      0   \n",
       "4423 2022-12-02  17088.660156  22541.587326 -5452.927169      0   \n",
       "4424 2022-12-03  16908.236328  22475.565947 -5567.329618      0   \n",
       "4425 2022-12-04  17130.486328  22413.718706 -5283.232378      0   \n",
       "4426 2022-12-05  16974.826172  22346.182676 -5371.356504      0   \n",
       "\n",
       "      price-meanavge     move%          Valuation  \n",
       "299         4.895389  0.219479         Overbought  \n",
       "300         4.937278  0.219799         Overbought  \n",
       "301         4.903833  0.217985         Overbought  \n",
       "302         5.198222  0.227974         Overbought  \n",
       "303         5.277000  0.230205         Overbought  \n",
       "...              ...       ...                ...  \n",
       "4422    -5638.022056 -0.142474  Severely Oversold  \n",
       "4423    -5452.927169 -0.137595  Severely Oversold  \n",
       "4424    -5567.329618 -0.141361  Severely Oversold  \n",
       "4425    -5283.232378 -0.133603  Severely Oversold  \n",
       "4426    -5371.356504 -0.136603  Severely Oversold  \n",
       "\n",
       "[4128 rows x 8 columns]"
      ]
     },
     "execution_count": 6,
     "metadata": {},
     "output_type": "execute_result"
    }
   ],
   "source": [
    "bins = [-0.43, -0.1, 0, 0.1, 0.43]\n",
    "group_names = [\"Severely Oversold\",\"Oversold\", \"Neutral\",\"Overbought\"]\n",
    "df[\"Valuation\"] = pd.cut(df[\"move%\"], bins, labels=group_names)\n",
    "df"
   ]
  },
  {
   "cell_type": "code",
   "execution_count": 7,
   "metadata": {},
   "outputs": [
    {
     "data": {
      "text/plain": [
       "-5371.36"
      ]
     },
     "execution_count": 7,
     "metadata": {},
     "output_type": "execute_result"
    }
   ],
   "source": [
    "pricefrommean = df.meanvalue.iloc[-1].round(2)\n",
    "pricefrommean"
   ]
  },
  {
   "cell_type": "code",
   "execution_count": 8,
   "metadata": {},
   "outputs": [
    {
     "data": {
      "text/plain": [
       "'Severely Oversold'"
      ]
     },
     "execution_count": 8,
     "metadata": {},
     "output_type": "execute_result"
    }
   ],
   "source": [
    "currentzone = df.Valuation.iloc[-1]\n",
    "currentzone"
   ]
  },
  {
   "cell_type": "code",
   "execution_count": 12,
   "metadata": {},
   "outputs": [
    {
     "data": {
      "text/plain": [
       "560"
      ]
     },
     "execution_count": 12,
     "metadata": {},
     "output_type": "execute_result"
    }
   ],
   "source": [
    "# Average length of days price stayed under meanaverage or undervalued/severely oversold\n",
    "delta1cycle = df.index[df['date']=='2015-09-15'].tolist()[0] - df.index[df['date']=='2013-12-04'].tolist()[0]\n",
    "delta2cycle = df.index[df['date']=='2019-04-2'].tolist()[0] - df.index[df['date']=='2017-12-17'].tolist()[0] \n",
    "averageunder = int((delta1cycle+delta2cycle)/2)\n",
    "averageunder\n"
   ]
  },
  {
   "cell_type": "code",
   "execution_count": 13,
   "metadata": {},
   "outputs": [
    {
     "data": {
      "text/plain": [
       "1138"
      ]
     },
     "execution_count": 13,
     "metadata": {},
     "output_type": "execute_result"
    }
   ],
   "source": [
    "# Average length of days from previous cycle peak to reach new all time high\n",
    "delta1fromp2p = df.index[df['date']=='2017-03-17'].tolist()[0] - df.index[df['date']=='2013-12-04'].tolist()[0]\n",
    "delta2fromp2p = df.index[df['date']=='2020-11-29'].tolist()[0] - df.index[df['date']=='2017-12-17'].tolist()[0] \n",
    "averagep2p = int((delta1fromp2p+delta2fromp2p)/2)\n",
    "averagep2p\n"
   ]
  },
  {
   "cell_type": "code",
   "execution_count": null,
   "metadata": {},
   "outputs": [],
   "source": [
    "# Days since last all time high\n",
    "sincealltimehigh = df.index[-1] - df.index[df['price']==df.price.max()].tolist()[0]\n",
    "sincealltimehigh"
   ]
  }
 ],
 "metadata": {
  "kernelspec": {
   "display_name": "Python 3.9.12",
   "language": "python",
   "name": "python3"
  },
  "language_info": {
   "codemirror_mode": {
    "name": "ipython",
    "version": 3
   },
   "file_extension": ".py",
   "mimetype": "text/x-python",
   "name": "python",
   "nbconvert_exporter": "python",
   "pygments_lexer": "ipython3",
   "version": "3.9.12"
  },
  "orig_nbformat": 4,
  "vscode": {
   "interpreter": {
    "hash": "0186a538ad27e2db57fefa14172f824d8896a2c272936670a25fa8d5fb9a4dc9"
   }
  }
 },
 "nbformat": 4,
 "nbformat_minor": 2
}
