{
 "cells": [
  {
   "cell_type": "code",
   "execution_count": 1,
   "metadata": {},
   "outputs": [
    {
     "name": "stdout",
     "output_type": "stream",
     "text": [
      "[*********************100%***********************]  1 of 1 completed\n"
     ]
    }
   ],
   "source": [
    "from datetime import date\n",
    "from prophet import Prophet\n",
    "import pandas as pd\n",
    "import matplotlib.pyplot as plt\n",
    "import numpy as np\n",
    "import yfinance as yf\n",
    "df = pd.read_csv(\"../Resources/btcjoin.csv\", parse_dates=['date'])\n",
    "btc_df = yf.download('BTC-USD')\n",
    "btc_df = btc_df.reset_index()\n",
    "btc_df = btc_df.loc[(btc_df['Date'] > '2022-10-25')]\n",
    "btc_df['Close']=btc_df['Close'].astype(\"float\")\n",
    "df['price']=df['price'].str.replace(',','')\n",
    "df['price']=df['price'].astype(\"float\")\n",
    "btc_df = btc_df.rename(columns={\"Close\": \"price\", \"Date\":\"date\"})\n",
    "df = pd.merge(df, btc_df, on=['date', 'price'], how='outer')\n",
    "df = df.rename(columns={\"value\": \"wallets\"})\n",
    "df = df.drop(columns=['volume','change', 'low', 'high', 'open','Open','High','Low','Adj Close', 'Volume', 'Unnamed: 0', \"wallets\", \"address\", \"mined\"])"
   ]
  },
  {
   "cell_type": "code",
   "execution_count": 2,
   "metadata": {},
   "outputs": [],
   "source": [
    "df['200D'] = df['price'].rolling(200).mean()\n",
    "df['300D'] = df['price'].rolling(300).mean()\n",
    "df['50D'] = df['price'].rolling(50).mean()\n",
    "df = df.dropna()\n"
   ]
  },
  {
   "cell_type": "code",
   "execution_count": 3,
   "metadata": {},
   "outputs": [],
   "source": [
    "df['meanavge'] = (df['200D'] + df['300D'] + df['50D'] )/3"
   ]
  },
  {
   "cell_type": "code",
   "execution_count": 4,
   "metadata": {},
   "outputs": [],
   "source": [
    "df = df.drop(columns=['200D','300D', '50D'])\n",
    "df['meanvalue'] = df[\"price\"] - df[\"meanavge\"]\n",
    "df['status'] = df['meanvalue'].apply(lambda x: '1' if x > 0 else '0')\n",
    "df['status']=df['status'].astype(\"object\")"
   ]
  },
  {
   "cell_type": "code",
   "execution_count": 5,
   "metadata": {},
   "outputs": [],
   "source": [
    "df['price-meanavge']=df['price'] - df['meanavge']\n",
    "df['move%'] = df['price-meanavge']/(df['price'] + df['meanavge'])"
   ]
  },
  {
   "cell_type": "code",
   "execution_count": 6,
   "metadata": {},
   "outputs": [
    {
     "data": {
      "text/html": [
       "<div>\n",
       "<style scoped>\n",
       "    .dataframe tbody tr th:only-of-type {\n",
       "        vertical-align: middle;\n",
       "    }\n",
       "\n",
       "    .dataframe tbody tr th {\n",
       "        vertical-align: top;\n",
       "    }\n",
       "\n",
       "    .dataframe thead th {\n",
       "        text-align: right;\n",
       "    }\n",
       "</style>\n",
       "<table border=\"1\" class=\"dataframe\">\n",
       "  <thead>\n",
       "    <tr style=\"text-align: right;\">\n",
       "      <th></th>\n",
       "      <th>date</th>\n",
       "      <th>price</th>\n",
       "      <th>meanavge</th>\n",
       "      <th>meanvalue</th>\n",
       "      <th>status</th>\n",
       "      <th>price-meanavge</th>\n",
       "      <th>move%</th>\n",
       "      <th>Valuation</th>\n",
       "    </tr>\n",
       "  </thead>\n",
       "  <tbody>\n",
       "    <tr>\n",
       "      <th>299</th>\n",
       "      <td>2011-07-21</td>\n",
       "      <td>13.600000</td>\n",
       "      <td>8.704611</td>\n",
       "      <td>4.895389</td>\n",
       "      <td>1</td>\n",
       "      <td>4.895389</td>\n",
       "      <td>0.219479</td>\n",
       "      <td>Overbought</td>\n",
       "    </tr>\n",
       "    <tr>\n",
       "      <th>300</th>\n",
       "      <td>2011-07-22</td>\n",
       "      <td>13.700000</td>\n",
       "      <td>8.762722</td>\n",
       "      <td>4.937278</td>\n",
       "      <td>1</td>\n",
       "      <td>4.937278</td>\n",
       "      <td>0.219799</td>\n",
       "      <td>Overbought</td>\n",
       "    </tr>\n",
       "    <tr>\n",
       "      <th>301</th>\n",
       "      <td>2011-07-23</td>\n",
       "      <td>13.700000</td>\n",
       "      <td>8.796167</td>\n",
       "      <td>4.903833</td>\n",
       "      <td>1</td>\n",
       "      <td>4.903833</td>\n",
       "      <td>0.217985</td>\n",
       "      <td>Overbought</td>\n",
       "    </tr>\n",
       "    <tr>\n",
       "      <th>302</th>\n",
       "      <td>2011-07-24</td>\n",
       "      <td>14.000000</td>\n",
       "      <td>8.801778</td>\n",
       "      <td>5.198222</td>\n",
       "      <td>1</td>\n",
       "      <td>5.198222</td>\n",
       "      <td>0.227974</td>\n",
       "      <td>Overbought</td>\n",
       "    </tr>\n",
       "    <tr>\n",
       "      <th>303</th>\n",
       "      <td>2011-07-25</td>\n",
       "      <td>14.100000</td>\n",
       "      <td>8.823000</td>\n",
       "      <td>5.277000</td>\n",
       "      <td>1</td>\n",
       "      <td>5.277000</td>\n",
       "      <td>0.230205</td>\n",
       "      <td>Overbought</td>\n",
       "    </tr>\n",
       "    <tr>\n",
       "      <th>...</th>\n",
       "      <td>...</td>\n",
       "      <td>...</td>\n",
       "      <td>...</td>\n",
       "      <td>...</td>\n",
       "      <td>...</td>\n",
       "      <td>...</td>\n",
       "      <td>...</td>\n",
       "      <td>...</td>\n",
       "    </tr>\n",
       "    <tr>\n",
       "      <th>4428</th>\n",
       "      <td>2022-12-07</td>\n",
       "      <td>16848.126953</td>\n",
       "      <td>22212.162412</td>\n",
       "      <td>-5364.035459</td>\n",
       "      <td>0</td>\n",
       "      <td>-5364.035459</td>\n",
       "      <td>-0.137327</td>\n",
       "      <td>Severely Oversold</td>\n",
       "    </tr>\n",
       "    <tr>\n",
       "      <th>4429</th>\n",
       "      <td>2022-12-08</td>\n",
       "      <td>17233.474609</td>\n",
       "      <td>22149.854450</td>\n",
       "      <td>-4916.379840</td>\n",
       "      <td>0</td>\n",
       "      <td>-4916.379840</td>\n",
       "      <td>-0.124834</td>\n",
       "      <td>Severely Oversold</td>\n",
       "    </tr>\n",
       "    <tr>\n",
       "      <th>4430</th>\n",
       "      <td>2022-12-09</td>\n",
       "      <td>17133.152344</td>\n",
       "      <td>22089.331388</td>\n",
       "      <td>-4956.179045</td>\n",
       "      <td>0</td>\n",
       "      <td>-4956.179045</td>\n",
       "      <td>-0.126361</td>\n",
       "      <td>Severely Oversold</td>\n",
       "    </tr>\n",
       "    <tr>\n",
       "      <th>4431</th>\n",
       "      <td>2022-12-10</td>\n",
       "      <td>17128.724609</td>\n",
       "      <td>22027.202954</td>\n",
       "      <td>-4898.478345</td>\n",
       "      <td>0</td>\n",
       "      <td>-4898.478345</td>\n",
       "      <td>-0.125102</td>\n",
       "      <td>Severely Oversold</td>\n",
       "    </tr>\n",
       "    <tr>\n",
       "      <th>4432</th>\n",
       "      <td>2022-12-11</td>\n",
       "      <td>17104.193359</td>\n",
       "      <td>21964.198114</td>\n",
       "      <td>-4860.004754</td>\n",
       "      <td>0</td>\n",
       "      <td>-4860.004754</td>\n",
       "      <td>-0.124397</td>\n",
       "      <td>Severely Oversold</td>\n",
       "    </tr>\n",
       "  </tbody>\n",
       "</table>\n",
       "<p>4134 rows × 8 columns</p>\n",
       "</div>"
      ],
      "text/plain": [
       "           date         price      meanavge    meanvalue status  \\\n",
       "299  2011-07-21     13.600000      8.704611     4.895389      1   \n",
       "300  2011-07-22     13.700000      8.762722     4.937278      1   \n",
       "301  2011-07-23     13.700000      8.796167     4.903833      1   \n",
       "302  2011-07-24     14.000000      8.801778     5.198222      1   \n",
       "303  2011-07-25     14.100000      8.823000     5.277000      1   \n",
       "...         ...           ...           ...          ...    ...   \n",
       "4428 2022-12-07  16848.126953  22212.162412 -5364.035459      0   \n",
       "4429 2022-12-08  17233.474609  22149.854450 -4916.379840      0   \n",
       "4430 2022-12-09  17133.152344  22089.331388 -4956.179045      0   \n",
       "4431 2022-12-10  17128.724609  22027.202954 -4898.478345      0   \n",
       "4432 2022-12-11  17104.193359  21964.198114 -4860.004754      0   \n",
       "\n",
       "      price-meanavge     move%          Valuation  \n",
       "299         4.895389  0.219479         Overbought  \n",
       "300         4.937278  0.219799         Overbought  \n",
       "301         4.903833  0.217985         Overbought  \n",
       "302         5.198222  0.227974         Overbought  \n",
       "303         5.277000  0.230205         Overbought  \n",
       "...              ...       ...                ...  \n",
       "4428    -5364.035459 -0.137327  Severely Oversold  \n",
       "4429    -4916.379840 -0.124834  Severely Oversold  \n",
       "4430    -4956.179045 -0.126361  Severely Oversold  \n",
       "4431    -4898.478345 -0.125102  Severely Oversold  \n",
       "4432    -4860.004754 -0.124397  Severely Oversold  \n",
       "\n",
       "[4134 rows x 8 columns]"
      ]
     },
     "execution_count": 6,
     "metadata": {},
     "output_type": "execute_result"
    }
   ],
   "source": [
    "bins = [-0.43, -0.1, 0, 0.1, 0.43]\n",
    "group_names = [\"Severely Oversold\",\"Oversold\", \"Neutral\",\"Overbought\"]\n",
    "df[\"Valuation\"] = pd.cut(df[\"move%\"], bins, labels=group_names)\n",
    "df"
   ]
  },
  {
   "cell_type": "code",
   "execution_count": 7,
   "metadata": {},
   "outputs": [
    {
     "data": {
      "text/plain": [
       "-4860.0"
      ]
     },
     "execution_count": 7,
     "metadata": {},
     "output_type": "execute_result"
    }
   ],
   "source": [
    "pricefrommean = df.meanvalue.iloc[-1].round(2)\n",
    "pricefrommean"
   ]
  },
  {
   "cell_type": "code",
   "execution_count": 8,
   "metadata": {},
   "outputs": [
    {
     "data": {
      "text/plain": [
       "'Severely Oversold'"
      ]
     },
     "execution_count": 8,
     "metadata": {},
     "output_type": "execute_result"
    }
   ],
   "source": [
    "currentzone = df.Valuation.iloc[-1]\n",
    "currentzone"
   ]
  },
  {
   "cell_type": "code",
   "execution_count": 9,
   "metadata": {},
   "outputs": [
    {
     "data": {
      "text/plain": [
       "560"
      ]
     },
     "execution_count": 9,
     "metadata": {},
     "output_type": "execute_result"
    }
   ],
   "source": [
    "# Average length of days price stayed under meanaverage or undervalued/severely oversold\n",
    "delta1cycle = df.index[df['date']=='2015-09-15'].tolist()[0] - df.index[df['date']=='2013-12-04'].tolist()[0]\n",
    "delta2cycle = df.index[df['date']=='2019-04-2'].tolist()[0] - df.index[df['date']=='2017-12-17'].tolist()[0] \n",
    "averageunder = int((delta1cycle+delta2cycle)/2)\n",
    "averageunder\n"
   ]
  },
  {
   "cell_type": "code",
   "execution_count": 10,
   "metadata": {},
   "outputs": [
    {
     "data": {
      "text/plain": [
       "1138"
      ]
     },
     "execution_count": 10,
     "metadata": {},
     "output_type": "execute_result"
    }
   ],
   "source": [
    "# Average length of days from previous cycle peak to reach new all time high\n",
    "delta1fromp2p = df.index[df['date']=='2017-03-17'].tolist()[0] - df.index[df['date']=='2013-12-04'].tolist()[0]\n",
    "delta2fromp2p = df.index[df['date']=='2020-11-29'].tolist()[0] - df.index[df['date']=='2017-12-17'].tolist()[0] \n",
    "averagep2p = int((delta1fromp2p+delta2fromp2p)/2)\n",
    "averagep2p\n"
   ]
  },
  {
   "cell_type": "code",
   "execution_count": 11,
   "metadata": {},
   "outputs": [
    {
     "data": {
      "text/plain": [
       "398"
      ]
     },
     "execution_count": 11,
     "metadata": {},
     "output_type": "execute_result"
    }
   ],
   "source": [
    "# Days since last all time high\n",
    "sincealltimehigh = df.index[-1] - df.index[df['price']==df.price.max()].tolist()[0]\n",
    "sincealltimehigh"
   ]
  },
  {
   "cell_type": "code",
   "execution_count": 12,
   "metadata": {},
   "outputs": [],
   "source": [
    "import plotly.graph_objects as go\n",
    "\n",
    "fig = go.Figure(go.Indicator(\n",
    "    domain = {'x': [0, 1], 'y': [0, 1]},\n",
    "    value = sincealltimehigh,\n",
    "    mode = \"gauge+number+delta\",\n",
    "    title = {'text': \"Approximate Days to reach previous ATH\"},\n",
    "    delta = {'reference': averagep2p},\n",
    "    gauge = {'axis': {'range': [None, averagep2p]},\n",
    "    'bar': {'color': \"orange\"},}))\n",
    "\n",
    "fig.write_image(\"../static/daysATH.jpeg\")    \n",
    "fig.show()"
   ]
  },
  {
   "cell_type": "code",
   "execution_count": null,
   "metadata": {},
   "outputs": [],
   "source": [
    "import plotly.graph_objects as go\n",
    "\n",
    "fig = go.Figure(go.Indicator(\n",
    "    domain = {'x': [0, 1], 'y': [0, 1]},\n",
    "    value = df.price.iloc[-1],\n",
    "    mode = \"gauge+number+delta\",\n",
    "    title = {'text': \"Current Price and ATH Delta\"},\n",
    "    delta = {'reference': df.price[df['price']==df.price.max()].tolist()[0]},\n",
    "    gauge = {'axis': {'range': [None, df.price[df['price']==df.price.max()].tolist()[0]]},\n",
    "    'bar': {'color': \"orange\"}}))\n",
    "fig.write_image(\"../static/priceath.jpeg\")\n",
    "fig.show()"
   ]
  },
  {
   "cell_type": "code",
   "execution_count": null,
   "metadata": {},
   "outputs": [],
   "source": [
    "import plotly.graph_objects as go\n",
    "\n",
    "fig = go.Figure(go.Indicator(\n",
    "    domain = {'x': [0, 1], 'y': [0, 1]},\n",
    "    value = sincealltimehigh,\n",
    "    mode = \"gauge+number+delta\",\n",
    "    title = {'text': \"Approximate Days Price < Meanaverage\"},\n",
    "      delta = {'reference': averageunder},\n",
    "    gauge = {'axis': {'range': [None, averageunder],},\n",
    "    'bar': {'color': \"orange\"},}))\n",
    "\n",
    "fig.write_image(\"../static/daysUnder.jpeg\")\n",
    "fig.show()"
   ]
  },
  {
   "cell_type": "code",
   "execution_count": null,
   "metadata": {},
   "outputs": [],
   "source": [
    "import plotly.graph_objects as go\n",
    "\n",
    "fig = go.Figure(go.Indicator(\n",
    "    domain = {'x': [0, 1], 'y': [0, 1]},\n",
    "    value = df.price.iloc[-1] - df.meanavge.iloc[-1],\n",
    "    mode = \"gauge+number+delta\",\n",
    "    title = {'text': \"Current Price Meanaverage Delta\"},\n",
    "    delta = {'reference': 0},\n",
    "    gauge = {'axis': {'range': [None, df.meanvalue[df['meanvalue']==df.meanvalue.min()].tolist()[0]]},\n",
    "    'bar': {'color': \"orange\"}}))\n",
    "fig.write_image(\"../static/price-mean.jpeg\")\n",
    "fig.show()"
   ]
  }
 ],
 "metadata": {
  "kernelspec": {
   "display_name": "Python 3.9.12",
   "language": "python",
   "name": "python3"
  },
  "language_info": {
   "codemirror_mode": {
    "name": "ipython",
    "version": 3
   },
   "file_extension": ".py",
   "mimetype": "text/x-python",
   "name": "python",
   "nbconvert_exporter": "python",
   "pygments_lexer": "ipython3",
   "version": "3.9.12 (main, Apr  4 2022, 05:22:27) [MSC v.1916 64 bit (AMD64)]"
  },
  "orig_nbformat": 4,
  "vscode": {
   "interpreter": {
    "hash": "0186a538ad27e2db57fefa14172f824d8896a2c272936670a25fa8d5fb9a4dc9"
   }
  }
 },
 "nbformat": 4,
 "nbformat_minor": 2
}
